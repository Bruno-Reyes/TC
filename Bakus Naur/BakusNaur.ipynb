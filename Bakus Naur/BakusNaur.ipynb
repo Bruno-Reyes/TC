{
 "cells": [
  {
   "cell_type": "code",
   "execution_count": 84,
   "metadata": {},
   "outputs": [
    {
     "name": "stdout",
     "output_type": "stream",
     "text": [
      "Bakus Naur!\n",
      "Deseas que el numeros de derivaciones se eliga de forma manual o automatica?\n"
     ]
    },
    {
     "data": {
      "text/plain": [
       "10"
      ]
     },
     "execution_count": 84,
     "metadata": {},
     "output_type": "execute_result"
    }
   ],
   "source": [
    "# Importamos librerias\n",
    "import random \n",
    "import re\n",
    "\n",
    "print('Bakus Naur!')\n",
    "# Preguntamos si queremos que la construccion sea automatica o manual\n",
    "print('Deseas que el numeros de derivaciones se eliga de forma manual o automatica?')\n",
    "modo = int(input((\" 0. Manual\\n 1.Automatica\\n\")))\n",
    "n = ''\n",
    "if modo == 0:\n",
    "        n = int(input('Numero de derivaciones? --> ')) # Solicitamos la longitud del palindromo\n",
    "else: \n",
    "    n = random.randint(1,100) # Generamos la longitud de forma aleatoria\n"
   ]
  },
  {
   "cell_type": "code",
   "execution_count": 85,
   "metadata": {},
   "outputs": [],
   "source": [
    "# Funcion que devuelve una regla de produccion en funcion a un caracter recibido\n",
    "def reglas_produccion(caracter:str): \n",
    "    gramatica = {\"S\" : \"iCtSA\",\n",
    "                 \"A\" : \";eS\",\n",
    "                }\n",
    "    return gramatica[caracter]"
   ]
  },
  {
   "cell_type": "code",
   "execution_count": 86,
   "metadata": {},
   "outputs": [],
   "source": [
    "# Funcion que realiza las derivaciones segun un numero dado\n",
    "def derivaciones(n): \n",
    "    # Usamos una variable historial para almacenar los cambios\n",
    "    historial = 'Numero de derivaciones por hacer --> {}\\n'.format(n) \n",
    "    cadena = 'S' # Definimos la cadena a derivar\n",
    "    historial += cadena+'\\n' # Agregamos al historial\n",
    "    # Iteramos n veces con n = derivaciones deseadas\n",
    "    for i in range(n): \n",
    "        cadena = cadena.replace('S', reglas_produccion('S')) # En cada iteracion reemplazamos 'S' por la regla de produccion 'S'\n",
    "        historial += cadena+'\\n' # Agregamos el cambio al historial\n",
    "\n",
    "    cadena = cadena.replace('A', reglas_produccion('A')) # Cuando terminan las iteraciones reemplazamos 'A' por la regla 'A'\n",
    "    historial += cadena # Agregamos el cambio al historial\n",
    "\n",
    "    # Creamos un archivo para guardar el historial\n",
    "    archivo = open('./Construccion.txt', mode='w',encoding='utf-8')\n",
    "    archivo.write(historial) # Guardamos el historial\n",
    "    archivo.close() # Cerramos el archivo\n",
    "    return cadena # Regresamos la cadena creada"
   ]
  },
  {
   "cell_type": "code",
   "execution_count": 87,
   "metadata": {},
   "outputs": [
    {
     "data": {
      "text/plain": [
       "'iCtiCtiCtiCtiCtiCtiCtiCtiCtiCtS;eS;eS;eS;eS;eS;eS;eS;eS;eS;eS'"
      ]
     },
     "execution_count": 87,
     "metadata": {},
     "output_type": "execute_result"
    }
   ],
   "source": [
    "derivaciones(n) # Invocamos la funcion derivaciones"
   ]
  },
  {
   "cell_type": "code",
   "execution_count": 88,
   "metadata": {},
   "outputs": [
    {
     "name": "stdout",
     "output_type": "stream",
     "text": [
      "iCtiCtiCtiCtiCtiCtiCtiCtiCtiCtS;eS;eS;eS;eS;eS;eS;eS;eS;eS;eS\n"
     ]
    },
    {
     "data": {
      "text/plain": [
       "'iCtiCtiCtiCtiCtiCtiCtiCtiCtiCtS'"
      ]
     },
     "execution_count": 88,
     "metadata": {},
     "output_type": "execute_result"
    }
   ],
   "source": [
    "# PARA LA CREACION DE PSEUDO-CODIGO\n",
    "# Abrimos el archivo construido en modo lectura\n",
    "file = open('./Construccion.txt', mode='r', encoding='utf-8')\n",
    "lines = file.read() # Leemos el archivo \n",
    "file.close() # Cerramos el archivo\n",
    "instrucciones = lines.split('\\n')[-1] # Tomamos la ultima linea \n",
    "instrucciones = instrucciones.split(';') # Separamos la cadena a una lista usando ';' como separacion\n",
    "aperturas = re.findall('iCt', instrucciones[0]) # Buscamos todas las estructuras if\n",
    "instrucciones.pop(0) # Quitamos las estructuras if"
   ]
  },
  {
   "cell_type": "code",
   "execution_count": 89,
   "metadata": {},
   "outputs": [],
   "source": [
    "estructura = '' # Usaremos una variable estructura donde almacenaremos el pseudo-codigo\n",
    "tabulaciones = 0 # Comenzamos con 0 tabulaciones\n",
    "for a in aperturas: # Iteramos en las aperturas de if \n",
    "    estructura += '\\t'*tabulaciones+'if conditional {\\n' # Escribimos las tabulaciones con el if\n",
    "    tabulaciones += 1 # Sumamos en 1 las tabulaciones\n",
    "estructura += '\\t'*tabulaciones+'sentence\\n' # Agregamos la sentencia final del if\n",
    "\n",
    "for e in instrucciones:# Agregamos las cerraduras iterando en ellas\n",
    "    tabulaciones -= 1  # Comenzamos disminuyendo en 1 las tabulaciones\n",
    "    estructura += '\\t'*tabulaciones+'else {\\n' # Escribimos las tabulaciones con el else\n",
    "    estructura += '\\t'*(tabulaciones+1)+'sentence\\n'  # Agregamos la sentencia final del else con una tabulacion adicional\n",
    "\n",
    "pseudo = open('./Pseudo-codigo.txt', mode='w', encoding='utf-8') # Abrimos el archivo pseudo-codigo\n",
    "pseudo.write(estructura) # Escribimos la estructura que acabamos de construir\n",
    "pseudo.close() # Cerramos el archivo "
   ]
  }
 ],
 "metadata": {
  "kernelspec": {
   "display_name": "Python 3",
   "language": "python",
   "name": "python3"
  },
  "language_info": {
   "codemirror_mode": {
    "name": "ipython",
    "version": 3
   },
   "file_extension": ".py",
   "mimetype": "text/x-python",
   "name": "python",
   "nbconvert_exporter": "python",
   "pygments_lexer": "ipython3",
   "version": "3.10.7"
  },
  "orig_nbformat": 4
 },
 "nbformat": 4,
 "nbformat_minor": 2
}
