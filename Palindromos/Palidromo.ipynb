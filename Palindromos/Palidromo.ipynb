{
 "cells": [
  {
   "cell_type": "code",
   "execution_count": 25,
   "metadata": {},
   "outputs": [
    {
     "name": "stdout",
     "output_type": "stream",
     "text": [
      "Programa Palindromos!\n",
      "¡Deseas que la longitud del palindromo eliga de forma manual o automática?\n",
      "La longitud del palindromo será de 3\n"
     ]
    }
   ],
   "source": [
    "import random\n",
    "\n",
    "print('Programa Palindromos!')\n",
    "\n",
    "# Preguntamos si queremos que la construccion sea automatica o manual\n",
    "print('¡Deseas que la longitud del palindromo eliga de forma manual o automatica?')\n",
    "modo = int(input((\" 0. Manual\\n 1.Automatica\\n\")))\n",
    "longitud = ''\n",
    "if modo == 0:\n",
    "        longitud = input('¿Longitud del palindromo? --> ') # Solicitamos la longitud del palindromo\n",
    "else: \n",
    "    longitud = random.randint(1,100000) # Generamos la longitud de forma aleatoria\n",
    "\n",
    "print('La longitud del palindromo será de {}'.format(longitud))"
   ]
  },
  {
   "cell_type": "code",
   "execution_count": 251,
   "metadata": {},
   "outputs": [
    {
     "data": {
      "text/plain": [
       "'0110'"
      ]
     },
     "execution_count": 251,
     "metadata": {},
     "output_type": "execute_result"
    }
   ],
   "source": [
    "# Funcion que devuelve una regla de produccion de forma aleatoria en funcion del numero de terminales que posee\n",
    "def regla_produccion(nivel:str): \n",
    "    gramatica = {\"0\" : [[\"\"]],\n",
    "                 \"1\" : [[\"0\"], [\"1\"]],\n",
    "                 \"2\" : [[\"0\", \"P\", \"0\"], [\"1\", \"P\", \"1\"]]\n",
    "                 }\n",
    "    return \"\".join(random.choice(gramatica[nivel]))\n",
    "\n",
    "# Funcion para generar palindromo\n",
    "def generar_palindromo(longitud:int):\n",
    "    #Guardaremos la construccion del palindromo en una cadena para despues escribir en un archivo\n",
    "    construccion = \"Longitud del palindromo a construir --> \"+str(longitud)+\"\\n\" \n",
    "    archivo = open('Construccion.txt', mode='w', encoding='utf-8') # Creamos y/o abrimos el archivo \n",
    "    palindromo = \"P\" # Definimos nuestro palindromo inicial como P\n",
    "    construccion += palindromo+\"\\n\" \n",
    "    while longitud > 1: # Si la longitud del palindromo es mayor a 1\n",
    "        produccion = regla_produccion(\"2\") # Solicitamos una regla de produccion con 2 terminales\n",
    "        palindromo = palindromo.replace(\"P\", produccion) # Reemplazamos la variable P por regla de produccion obtenida\n",
    "        construccion += \"Regla de produccion --> \"+str(produccion)+\"\\n\" # Informamos que regla de produccion se usó\n",
    "        construccion += palindromo+\"\\n\" # Agregamos la cadena resultante a nuestra construccion\n",
    "        longitud -= 2 # Restamos a la longitud 2 (numero de terminales agregadas)\n",
    "\n",
    "    if longitud == 1: # Si la longitud es 1 \n",
    "        produccion = regla_produccion(\"1\") # Solicitamos una regla de produccion con 1 terminales\n",
    "        palindromo = palindromo.replace(\"P\", produccion) # Reemplazamos la variable P por regla de produccion obtenida\n",
    "        construccion += \"Regla de produccion --> \"+str(produccion)+\"\\n\" # Informamos que regla de produccion se usó\n",
    "        construccion += palindromo # Agregamos la cadena resultante a nuestra construccion\n",
    "\n",
    "    else:\n",
    "        produccion = regla_produccion(\"0\") # Solicitamos una regla de produccion con 0 terminales\n",
    "        palindromo = palindromo.replace(\"P\", produccion) # Reemplazamos la variable P por regla de produccion obtenida\n",
    "        construccion += \"Regla de produccion --> \"+str(produccion)+\"\\n\" # Informamos que regla de produccion se usó\n",
    "        construccion += palindromo # Agregamos la cadena resultante a nuestra construccion\n",
    "    archivo.write(construccion) # Escribimos toda la construccion en el archivo\n",
    "    archivo.close() # Cerramos el archivo\n",
    "    return palindromo # Retornamos el palindromo generado \n",
    "    \n",
    "generar_palindromo(longitud)"
   ]
  }
 ],
 "metadata": {
  "kernelspec": {
   "display_name": "Python 3",
   "language": "python",
   "name": "python3"
  },
  "language_info": {
   "codemirror_mode": {
    "name": "ipython",
    "version": 3
   },
   "file_extension": ".py",
   "mimetype": "text/x-python",
   "name": "python",
   "nbconvert_exporter": "python",
   "pygments_lexer": "ipython3",
   "version": "3.10.7"
  },
  "orig_nbformat": 4
 },
 "nbformat": 4,
 "nbformat_minor": 2
}
