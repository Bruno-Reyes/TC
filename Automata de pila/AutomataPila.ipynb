{
 "cells": [
  {
   "cell_type": "code",
   "execution_count": 3,
   "metadata": {},
   "outputs": [],
   "source": [
    "import random"
   ]
  },
  {
   "cell_type": "code",
   "execution_count": 4,
   "metadata": {},
   "outputs": [
    {
     "name": "stdout",
     "output_type": "stream",
     "text": [
      "Automata de pila!\n",
      "Deseas que el lenguaje se genere de forma manual o automática?\n",
      "000111\n"
     ]
    }
   ],
   "source": [
    "print('Automata de pila!')\n",
    "\n",
    "print('Deseas que el lenguaje se genere de forma manual o automática?')\n",
    "modo = int(input((\" 0. Manual\\n 1.Automatica\\n\")))\n",
    "cadena = ''\n",
    "if modo == 0:\n",
    "    cadena = str(input('Cadena binaria --> '))\n",
    "else: \n",
    "    n = random.randint(0,100000)\n",
    "    cadena += '0'\n",
    "    for i in range(n-1):\n",
    "        cadena += str(random.randint(0,1))\n",
    "\n",
    "print(cadena)"
   ]
  },
  {
   "cell_type": "code",
   "execution_count": 10,
   "metadata": {},
   "outputs": [
    {
     "name": "stdout",
     "output_type": "stream",
     "text": [
      "['X', '1']\n",
      "['X', '1', '1']\n",
      "['X', '1', '1', '1']\n",
      "['X', '1', '1']\n",
      "['X', '1']\n",
      "['X']\n",
      "[]\n",
      "True\n"
     ]
    }
   ],
   "source": [
    "# Definimos estructura \"Pila\"\n",
    "class Pila: \n",
    "    def __init__(self):\n",
    "        self.items = ['X']        \n",
    "\n",
    "    def estaVacia(self):\n",
    "        return True if len(self.items) == 0 else False\n",
    "    \n",
    "    def agregar(self, item):\n",
    "        self.items.append(item)\n",
    "    \n",
    "    def extraer(self):\n",
    "        self.items.pop()\n",
    "\n",
    "    def inspeccionar(self):\n",
    "        return self.items[len(self.items)-1]\n",
    "\n",
    "    def imprimir(self):\n",
    "        print(self.items)\n",
    "\n",
    "class PDA: \n",
    "    def __init__(self, cadena):\n",
    "        self.cadena = cadena\n",
    "        self.q0 = True\n",
    "        self.q1 = False\n",
    "        self.q2 = False\n",
    "        self.stack = Pila()\n",
    "\n",
    "    def evaluar(self):\n",
    "        for c in self.cadena: \n",
    "            if self.q0: \n",
    "                if c=='0': \n",
    "                    self.stack.agregar('1')\n",
    "                if c=='1':\n",
    "                    self.stack.extraer()\n",
    "                    self.q0 = False\n",
    "                    self.q1 = True\n",
    "            elif self.q1:\n",
    "                if c=='1':\n",
    "                    self.stack.extraer()\n",
    "            self.stack.imprimir()\n",
    "\n",
    "        if self.stack.inspeccionar() == 'X':\n",
    "            self.stack.extraer()\n",
    "            self.q1 = False\n",
    "            self.q2 = True\n",
    "        self.stack.imprimir()\n",
    "        return self.q2\n",
    "\n",
    "automata = PDA(cadena)\n",
    "print(cadena)\n",
    "print(automata.evaluar())\n"
   ]
  }
 ],
 "metadata": {
  "kernelspec": {
   "display_name": "Python 3",
   "language": "python",
   "name": "python3"
  },
  "language_info": {
   "codemirror_mode": {
    "name": "ipython",
    "version": 3
   },
   "file_extension": ".py",
   "mimetype": "text/x-python",
   "name": "python",
   "nbconvert_exporter": "python",
   "pygments_lexer": "ipython3",
   "version": "3.10.7"
  },
  "orig_nbformat": 4
 },
 "nbformat": 4,
 "nbformat_minor": 2
}
